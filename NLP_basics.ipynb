{
  "nbformat": 4,
  "nbformat_minor": 0,
  "metadata": {
    "colab": {
      "name": "NLP_basics.ipynb",
      "provenance": [],
      "collapsed_sections": [],
      "authorship_tag": "ABX9TyOo6EHwqQHvk75SE0iUOiPp",
      "include_colab_link": true
    },
    "kernelspec": {
      "name": "python3",
      "display_name": "Python 3"
    }
  },
  "cells": [
    {
      "cell_type": "markdown",
      "metadata": {
        "id": "view-in-github",
        "colab_type": "text"
      },
      "source": [
        "<a href=\"https://colab.research.google.com/github/reyvnth/Natural_Language_Processing_fundamentals/blob/main/NLP_basics.ipynb\" target=\"_parent\"><img src=\"https://colab.research.google.com/assets/colab-badge.svg\" alt=\"Open In Colab\"/></a>"
      ]
    },
    {
      "cell_type": "markdown",
      "metadata": {
        "id": "ysE583HXWYan"
      },
      "source": [
        "## NLP BASICS"
      ]
    },
    {
      "cell_type": "code",
      "metadata": {
        "id": "GtTzkzsJS1Dk"
      },
      "source": [
        "s1 = 'My name is --------- Revanth & *# Krishna'\n",
        "s2 = 'Today is a V******** Good day'\n",
        "s3 = 'How can I _ help you?'"
      ],
      "execution_count": null,
      "outputs": []
    },
    {
      "cell_type": "code",
      "metadata": {
        "id": "wkJHvAfwXjK6"
      },
      "source": [
        "s4 = 'my date of birth is _18/9/1980'"
      ],
      "execution_count": null,
      "outputs": []
    },
    {
      "cell_type": "markdown",
      "metadata": {
        "id": "eVQ-F6jTT64E"
      },
      "source": [
        "#### 1) Convert the Sentence into lower_case"
      ]
    },
    {
      "cell_type": "code",
      "metadata": {
        "id": "q67sQj-fTuV_",
        "outputId": "1fb9b02c-0cdb-4ba5-b785-ea061db4ef0c",
        "colab": {
          "base_uri": "https://localhost:8080/",
          "height": 35
        }
      },
      "source": [
        "s1 = s1.lower()\n",
        "s1"
      ],
      "execution_count": null,
      "outputs": [
        {
          "output_type": "execute_result",
          "data": {
            "application/vnd.google.colaboratory.intrinsic+json": {
              "type": "string"
            },
            "text/plain": [
              "'my name is --------- revanth & *# krishna'"
            ]
          },
          "metadata": {
            "tags": []
          },
          "execution_count": 2
        }
      ]
    },
    {
      "cell_type": "code",
      "metadata": {
        "id": "7oOKUspwTx-u",
        "outputId": "7573c031-83f8-475c-c7fe-80d75968361d",
        "colab": {
          "base_uri": "https://localhost:8080/",
          "height": 35
        }
      },
      "source": [
        "s2 = s2.lower()\n",
        "s2"
      ],
      "execution_count": null,
      "outputs": [
        {
          "output_type": "execute_result",
          "data": {
            "application/vnd.google.colaboratory.intrinsic+json": {
              "type": "string"
            },
            "text/plain": [
              "'today is a v******** good day'"
            ]
          },
          "metadata": {
            "tags": []
          },
          "execution_count": 3
        }
      ]
    },
    {
      "cell_type": "code",
      "metadata": {
        "id": "Nek_7A-bTzmS",
        "outputId": "1290b0e0-2a55-4685-e5a3-8071c277e76a",
        "colab": {
          "base_uri": "https://localhost:8080/",
          "height": 35
        }
      },
      "source": [
        "s3 = s3.lower()\n",
        "s3"
      ],
      "execution_count": null,
      "outputs": [
        {
          "output_type": "execute_result",
          "data": {
            "application/vnd.google.colaboratory.intrinsic+json": {
              "type": "string"
            },
            "text/plain": [
              "'how can i _ help you?'"
            ]
          },
          "metadata": {
            "tags": []
          },
          "execution_count": 4
        }
      ]
    },
    {
      "cell_type": "code",
      "metadata": {
        "id": "gDZV71XQX5AP",
        "outputId": "1e84ba81-4368-48de-cb90-9a6d23fd1cf4",
        "colab": {
          "base_uri": "https://localhost:8080/",
          "height": 35
        }
      },
      "source": [
        "s4 = s4.lower()\n",
        "s4"
      ],
      "execution_count": null,
      "outputs": [
        {
          "output_type": "execute_result",
          "data": {
            "application/vnd.google.colaboratory.intrinsic+json": {
              "type": "string"
            },
            "text/plain": [
              "'my date of birth is _18/9/1980'"
            ]
          },
          "metadata": {
            "tags": []
          },
          "execution_count": 19
        }
      ]
    },
    {
      "cell_type": "markdown",
      "metadata": {
        "id": "uG4fbktbUEDI"
      },
      "source": [
        "#### 2) TOKENIZE / Split into individual words"
      ]
    },
    {
      "cell_type": "code",
      "metadata": {
        "id": "IWC9SXT0UV-W",
        "outputId": "e12149b1-cd4a-42b7-8d64-8233a46e49fa",
        "colab": {
          "base_uri": "https://localhost:8080/",
          "height": 70
        }
      },
      "source": [
        "import nltk\n",
        "nltk.download('punkt')"
      ],
      "execution_count": null,
      "outputs": [
        {
          "output_type": "stream",
          "text": [
            "[nltk_data] Downloading package punkt to /root/nltk_data...\n",
            "[nltk_data]   Unzipping tokenizers/punkt.zip.\n"
          ],
          "name": "stdout"
        },
        {
          "output_type": "execute_result",
          "data": {
            "text/plain": [
              "True"
            ]
          },
          "metadata": {
            "tags": []
          },
          "execution_count": 5
        }
      ]
    },
    {
      "cell_type": "code",
      "metadata": {
        "id": "zWD6CeI-VO73"
      },
      "source": [
        "from nltk.tokenize import RegexpTokenizer\n",
        "\n",
        "tokenizer = RegexpTokenizer('\\w+')"
      ],
      "execution_count": null,
      "outputs": []
    },
    {
      "cell_type": "code",
      "metadata": {
        "id": "OiXFDOm_Vjza"
      },
      "source": [
        "def tok(x):\n",
        "  return tokenizer.tokenize(x)"
      ],
      "execution_count": null,
      "outputs": []
    },
    {
      "cell_type": "code",
      "metadata": {
        "id": "QvHRgF84V0C_",
        "outputId": "45f16410-edbc-4a00-da9d-9e7e9e6d15a0",
        "colab": {
          "base_uri": "https://localhost:8080/",
          "height": 34
        }
      },
      "source": [
        "s1 = tok(s1)\n",
        "s1"
      ],
      "execution_count": null,
      "outputs": [
        {
          "output_type": "execute_result",
          "data": {
            "text/plain": [
              "['my', 'name', 'is', 'revanth', 'krishna']"
            ]
          },
          "metadata": {
            "tags": []
          },
          "execution_count": 12
        }
      ]
    },
    {
      "cell_type": "code",
      "metadata": {
        "id": "GNskR6H5V3Mr",
        "outputId": "ec440fa4-8d5f-4d49-b3bb-5a9ebba515d7",
        "colab": {
          "base_uri": "https://localhost:8080/",
          "height": 34
        }
      },
      "source": [
        "s2 = tok(s2)\n",
        "s2"
      ],
      "execution_count": null,
      "outputs": [
        {
          "output_type": "execute_result",
          "data": {
            "text/plain": [
              "['today', 'is', 'a', 'v', 'good', 'day']"
            ]
          },
          "metadata": {
            "tags": []
          },
          "execution_count": 13
        }
      ]
    },
    {
      "cell_type": "code",
      "metadata": {
        "id": "0Xmn1OxmWFeP",
        "outputId": "1920c1da-1747-4dd1-aeb1-a6ee95773666",
        "colab": {
          "base_uri": "https://localhost:8080/",
          "height": 34
        }
      },
      "source": [
        "s3 = tok(s3)\n",
        "s3"
      ],
      "execution_count": null,
      "outputs": [
        {
          "output_type": "execute_result",
          "data": {
            "text/plain": [
              "['how', 'can', 'i', '_', 'help', 'you']"
            ]
          },
          "metadata": {
            "tags": []
          },
          "execution_count": 14
        }
      ]
    },
    {
      "cell_type": "code",
      "metadata": {
        "id": "kmyTzIeJX7CP",
        "outputId": "6f5c6e44-a041-4d9d-bb06-42db8c544a7a",
        "colab": {
          "base_uri": "https://localhost:8080/",
          "height": 34
        }
      },
      "source": [
        "s4 = tok(s4)\n",
        "s4"
      ],
      "execution_count": null,
      "outputs": [
        {
          "output_type": "execute_result",
          "data": {
            "text/plain": [
              "['my', 'date', 'of', 'birth', 'is', '_18', '9', '1980']"
            ]
          },
          "metadata": {
            "tags": []
          },
          "execution_count": 20
        }
      ]
    },
    {
      "cell_type": "markdown",
      "metadata": {
        "id": "-3h46f7eWQp-"
      },
      "source": [
        "#### 3) Cleaning of Text"
      ]
    },
    {
      "cell_type": "markdown",
      "metadata": {
        "id": "cVbO-D16XQcX"
      },
      "source": [
        "Removing the unwanted special characters is essential"
      ]
    },
    {
      "cell_type": "code",
      "metadata": {
        "id": "ZAhtyOqkWHzl"
      },
      "source": [
        "import re"
      ],
      "execution_count": null,
      "outputs": []
    },
    {
      "cell_type": "code",
      "metadata": {
        "id": "TDVYcr-UXXxz",
        "outputId": "9cb894b9-52c7-48dc-9a8e-dd04b07f16d1",
        "colab": {
          "base_uri": "https://localhost:8080/",
          "height": 34
        }
      },
      "source": [
        "pattern = '_'\n",
        "\n",
        "s3 = [re.sub(pattern,'',i) for i in s3]\n",
        "s3"
      ],
      "execution_count": null,
      "outputs": [
        {
          "output_type": "execute_result",
          "data": {
            "text/plain": [
              "['how', 'can', 'i', '', 'help', 'you']"
            ]
          },
          "metadata": {
            "tags": []
          },
          "execution_count": 16
        }
      ]
    },
    {
      "cell_type": "code",
      "metadata": {
        "id": "VmLVSZmIYECR",
        "outputId": "0f642a0b-a7cb-483a-e356-37707852544c",
        "colab": {
          "base_uri": "https://localhost:8080/",
          "height": 34
        }
      },
      "source": [
        "pattern = '_'\n",
        "\n",
        "s4 = [re.sub(pattern,'',i) for i in s4]\n",
        "s4"
      ],
      "execution_count": null,
      "outputs": [
        {
          "output_type": "execute_result",
          "data": {
            "text/plain": [
              "['my', 'date', 'of', 'birth', 'is', '18', '9', '1980']"
            ]
          },
          "metadata": {
            "tags": []
          },
          "execution_count": 21
        }
      ]
    },
    {
      "cell_type": "code",
      "metadata": {
        "id": "lo5j1cBSYOCw"
      },
      "source": [
        "pattern = '[0-9]'\n",
        "\n",
        "s4 = [re.sub(pattern, '',i) for i in s4]"
      ],
      "execution_count": null,
      "outputs": []
    },
    {
      "cell_type": "markdown",
      "metadata": {
        "id": "sPzYslzWZkMP"
      },
      "source": [
        "#### 4) Remove Stop Words"
      ]
    },
    {
      "cell_type": "code",
      "metadata": {
        "id": "dF7nKxluYWde",
        "outputId": "9bebf252-dfc0-475a-c8bd-f2a9c50be11e",
        "colab": {
          "base_uri": "https://localhost:8080/",
          "height": 70
        }
      },
      "source": [
        "from nltk.corpus import stopwords\n",
        "nltk.download('stopwords')"
      ],
      "execution_count": null,
      "outputs": [
        {
          "output_type": "stream",
          "text": [
            "[nltk_data] Downloading package stopwords to /root/nltk_data...\n",
            "[nltk_data]   Unzipping corpora/stopwords.zip.\n"
          ],
          "name": "stdout"
        },
        {
          "output_type": "execute_result",
          "data": {
            "text/plain": [
              "True"
            ]
          },
          "metadata": {
            "tags": []
          },
          "execution_count": 23
        }
      ]
    },
    {
      "cell_type": "code",
      "metadata": {
        "id": "e-cEKv_0aFGC"
      },
      "source": [
        "sw = stopwords.words('english')"
      ],
      "execution_count": null,
      "outputs": []
    },
    {
      "cell_type": "code",
      "metadata": {
        "id": "8qTJwG_3aM1s",
        "outputId": "447518ca-1ba7-4e3e-8ec1-d9c1fe54e696",
        "colab": {
          "base_uri": "https://localhost:8080/",
          "height": 34
        }
      },
      "source": [
        "s1 = [word for word in s1 if word not in sw]\n",
        "s1"
      ],
      "execution_count": null,
      "outputs": [
        {
          "output_type": "execute_result",
          "data": {
            "text/plain": [
              "['name', 'revanth', 'krishna']"
            ]
          },
          "metadata": {
            "tags": []
          },
          "execution_count": 27
        }
      ]
    },
    {
      "cell_type": "code",
      "metadata": {
        "id": "ot7VQNcEaZmx",
        "outputId": "114cdfbb-da1e-47e6-cca9-3d6e8fd2b54f",
        "colab": {
          "base_uri": "https://localhost:8080/",
          "height": 34
        }
      },
      "source": [
        "s2 = [word for word in s2 if word not in sw]\n",
        "s2 "
      ],
      "execution_count": null,
      "outputs": [
        {
          "output_type": "execute_result",
          "data": {
            "text/plain": [
              "['today', 'v', 'good', 'day']"
            ]
          },
          "metadata": {
            "tags": []
          },
          "execution_count": 28
        }
      ]
    },
    {
      "cell_type": "code",
      "metadata": {
        "id": "bO4CP9WyagYf",
        "outputId": "c456e7d2-fa52-47ac-e266-677cee3a034a",
        "colab": {
          "base_uri": "https://localhost:8080/",
          "height": 34
        }
      },
      "source": [
        "s3 = [word for word in s3 if word not in sw]\n",
        "s3"
      ],
      "execution_count": null,
      "outputs": [
        {
          "output_type": "execute_result",
          "data": {
            "text/plain": [
              "['', 'help']"
            ]
          },
          "metadata": {
            "tags": []
          },
          "execution_count": 30
        }
      ]
    },
    {
      "cell_type": "code",
      "metadata": {
        "id": "fkuLL1XWakUK",
        "outputId": "362b1444-dcee-4b00-f7b1-34d5b90c9493",
        "colab": {
          "base_uri": "https://localhost:8080/",
          "height": 34
        }
      },
      "source": [
        "s4 = [word for word in s4 if word not in sw]\n",
        "s4"
      ],
      "execution_count": null,
      "outputs": [
        {
          "output_type": "execute_result",
          "data": {
            "text/plain": [
              "['date', 'birth', '', '', '']"
            ]
          },
          "metadata": {
            "tags": []
          },
          "execution_count": 31
        }
      ]
    },
    {
      "cell_type": "markdown",
      "metadata": {
        "id": "LkoK_gPrb6jM"
      },
      "source": [
        "#### 5) Creating a Bag of Words"
      ]
    },
    {
      "cell_type": "code",
      "metadata": {
        "id": "2VYBIhfldyWn"
      },
      "source": [
        "a1 = 'Send us your password'\n",
        "a2 = 'Send us your review'\n",
        "a3 = 'Review your password'\n",
        "a4 = 'Review us'\n",
        "a5 = 'Send your password'\n",
        "a6 = 'Send us your account'\n",
        "x = [a1,a2,a3,a4,a5,a6]"
      ],
      "execution_count": null,
      "outputs": []
    },
    {
      "cell_type": "code",
      "metadata": {
        "id": "10U7GogHeh-W"
      },
      "source": [
        "def process_text(text):\n",
        "  pattern = '[0-9]'\n",
        "\n",
        "  data = [re.sub(pattern,'',i) for i in text]\n",
        "\n",
        "  pattern = '_'\n",
        "\n",
        "  data = [re.sub(pattern,'',i) for i in data]\n",
        "\n",
        "  return data"
      ],
      "execution_count": null,
      "outputs": []
    },
    {
      "cell_type": "code",
      "metadata": {
        "id": "Igocdvw1e_C6",
        "outputId": "65dbd40a-ce31-4a0b-89d4-2a77a948fad8",
        "colab": {
          "base_uri": "https://localhost:8080/",
          "height": 123
        }
      },
      "source": [
        "data = process_text(x)\n",
        "data"
      ],
      "execution_count": null,
      "outputs": [
        {
          "output_type": "execute_result",
          "data": {
            "text/plain": [
              "['Send us your password',\n",
              " 'Send us your review',\n",
              " 'Review your password',\n",
              " 'Review us',\n",
              " 'Send your password',\n",
              " 'Send us your account']"
            ]
          },
          "metadata": {
            "tags": []
          },
          "execution_count": 36
        }
      ]
    },
    {
      "cell_type": "code",
      "metadata": {
        "id": "6PsrQGHaartP"
      },
      "source": [
        "from sklearn.feature_extraction.text import CountVectorizer\n",
        "Vectorizer = CountVectorizer(tokenizer = tok, stop_words= sw,ngram_range= (1,1))"
      ],
      "execution_count": null,
      "outputs": []
    },
    {
      "cell_type": "code",
      "metadata": {
        "id": "-HugUZFLfeUD",
        "outputId": "c15a4457-fea6-4222-b0a9-291c3f930787",
        "colab": {
          "base_uri": "https://localhost:8080/",
          "height": 123
        }
      },
      "source": [
        "vector_x = Vectorizer.fit_transform(data)\n",
        "print(vector_x.toarray())"
      ],
      "execution_count": null,
      "outputs": [
        {
          "output_type": "stream",
          "text": [
            "[[0 1 0 1 1]\n",
            " [0 0 1 1 1]\n",
            " [0 1 1 0 0]\n",
            " [0 0 1 0 1]\n",
            " [0 1 0 1 0]\n",
            " [1 0 0 1 1]]\n"
          ],
          "name": "stdout"
        }
      ]
    },
    {
      "cell_type": "code",
      "metadata": {
        "id": "sP3xdcR-fn0R",
        "outputId": "b2cbf745-b1bf-4933-fbb6-3ee2e47b0305",
        "colab": {
          "base_uri": "https://localhost:8080/",
          "height": 34
        }
      },
      "source": [
        "Vectorizer.get_feature_names()"
      ],
      "execution_count": null,
      "outputs": [
        {
          "output_type": "execute_result",
          "data": {
            "text/plain": [
              "['account', 'password', 'review', 'send', 'us']"
            ]
          },
          "metadata": {
            "tags": []
          },
          "execution_count": 55
        }
      ]
    },
    {
      "cell_type": "markdown",
      "metadata": {
        "id": "0RlCqEGKhn7V"
      },
      "source": [
        "#### 6) Vectorize"
      ]
    },
    {
      "cell_type": "markdown",
      "metadata": {
        "id": "LmiNYBmAhtj1"
      },
      "source": [
        "TFID Transformer"
      ]
    },
    {
      "cell_type": "code",
      "metadata": {
        "id": "iU748Ynrghhn"
      },
      "source": [
        "from sklearn.feature_extraction.text import TfidfTransformer\n",
        "Tfid = TfidfTransformer()"
      ],
      "execution_count": null,
      "outputs": []
    },
    {
      "cell_type": "code",
      "metadata": {
        "id": "AiYqllfdh4jH",
        "outputId": "11a6a7ca-a617-42d4-a837-b6a3ac44756f",
        "colab": {
          "base_uri": "https://localhost:8080/",
          "height": 123
        }
      },
      "source": [
        "vector_x = Tfid.fit_transform(vector_x)\n",
        "print(vector_x.toarray())"
      ],
      "execution_count": null,
      "outputs": [
        {
          "output_type": "stream",
          "text": [
            "[[0.         0.63646032 0.         0.54539814 0.54539814]\n",
            " [0.         0.         0.63646032 0.54539814 0.54539814]\n",
            " [0.         0.70710678 0.70710678 0.         0.        ]\n",
            " [0.         0.         0.7593387  0.         0.65069558]\n",
            " [0.         0.7593387  0.         0.65069558 0.        ]\n",
            " [0.76608386 0.         0.         0.45448626 0.45448626]]\n"
          ],
          "name": "stdout"
        }
      ]
    }
  ]
}